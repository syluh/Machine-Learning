{
 "cells": [
  {
   "cell_type": "code",
   "execution_count": 5,
   "id": "95432781",
   "metadata": {},
   "outputs": [],
   "source": [
    "import numpy as np"
   ]
  },
  {
   "cell_type": "markdown",
   "id": "4b842a50",
   "metadata": {},
   "source": [
    "# ¿Por qué usar NumPy?\n",
    "###  La lista de Python puede contener elementos con diferentes tipos de datos, mientras que los elementos de Numpy Array son siempre homogéneos.  Las matrices NumPy son más rápidas y compactas que las listas de Python.\n",
    "\n",
    "# ¿Por qué las matrices NumPy son más rápidas que las listas?\n",
    "### NumPy Array usa memoria fija para almacenar datos y menos memoria que las listas de Python. Asignación de memoria contigua en NumPy Arrays."
   ]
  },
  {
   "cell_type": "code",
   "execution_count": 7,
   "id": "a8fec5b3",
   "metadata": {},
   "outputs": [
    {
     "name": "stdout",
     "output_type": "stream",
     "text": [
      "[3 2 7]\n"
     ]
    }
   ],
   "source": [
    "# Crear un array de una dimensión\n",
    "#creating python list\n",
    "list_1 = [3,2,7]\n",
    "arr_1 = np.array(list_1,dtype=np.int16)\n",
    "print(arr_1)\n",
    "#or \n",
    "arr_1=np.array([3,2,7])\n"
   ]
  },
  {
   "cell_type": "code",
   "execution_count": 8,
   "id": "938f84e0",
   "metadata": {},
   "outputs": [
    {
     "name": "stdout",
     "output_type": "stream",
     "text": [
      "[[1 2 3]\n",
      " [4 5 6]\n",
      " [7 8 9]]\n"
     ]
    }
   ],
   "source": [
    "# Crear un array de 2 dimenciones\n",
    "list_m = [[1, 2, 3], [4, 5, 6], [7, 8, 9]] \n",
    "arr_m = np.array(list_m,dtype=np.int16)\n",
    "print(arr_m)"
   ]
  },
  {
   "cell_type": "markdown",
   "id": "56a0c19b",
   "metadata": {},
   "source": [
    "## Tipos de datos con los que se pueden crear arrays"
   ]
  },
  {
   "cell_type": "markdown",
   "id": "db0b14e1",
   "metadata": {},
   "source": [
    "- Boolean : np.bool_\n",
    "- Char : np.byte\n",
    "- Short : np.short\n",
    "- Integer : np.short\n",
    "- Long : np.int_\n",
    "- Float : np.single&np.float32\n",
    "- Double :np.double&np.float64\n",
    "- np.int8: integer (-128 to 127)\n",
    "- np.int16:integer( -32768 to 32767)\n",
    "- np.int32: integer(-2147483648 to 2147483647)\n",
    "- np.int64 :integer( -9223372036854775808 to 9223372036854775807)"
   ]
  },
  {
   "cell_type": "code",
   "execution_count": 11,
   "id": "e4417774",
   "metadata": {},
   "outputs": [
    {
     "name": "stdout",
     "output_type": "stream",
     "text": [
      "[[7 7]\n",
      " [7 7]]\n"
     ]
    }
   ],
   "source": [
    "# Crear un array con una constante\n",
    "arr_c = np.full((2,2), 7) \n",
    "print(arr_c)"
   ]
  },
  {
   "cell_type": "code",
   "execution_count": 13,
   "id": "25bbaf1d",
   "metadata": {},
   "outputs": [
    {
     "name": "stdout",
     "output_type": "stream",
     "text": [
      "[0.         0.83333333 1.66666667 2.5        3.33333333 4.16666667\n",
      " 5.        ]\n"
     ]
    }
   ],
   "source": [
    "# Crear un array con valor inicial, valor final y número de valores\n",
    "arr_L = np.linspace(0, 5,7)\n",
    "print(arr_L)"
   ]
  },
  {
   "cell_type": "code",
   "execution_count": 15,
   "id": "67da8154",
   "metadata": {},
   "outputs": [
    {
     "name": "stdout",
     "output_type": "stream",
     "text": [
      "[1 2 3 4 5 6 7 8 9]\n"
     ]
    }
   ],
   "source": [
    "# Crear un array con valor inicial, valor final y número de valores (tipos de datos int)\n",
    "arr_a=np.arange(1, 10,1)\n",
    "print(arr_a)"
   ]
  },
  {
   "cell_type": "code",
   "execution_count": 17,
   "id": "3dbaa2c5",
   "metadata": {},
   "outputs": [
    {
     "name": "stdout",
     "output_type": "stream",
     "text": [
      "[[0.85428473 0.71239336]\n",
      " [0.94290798 0.13616594]]\n"
     ]
    }
   ],
   "source": [
    "# Crear un array con valores ramdon\n",
    "arr_r = np.random.random((2,2))  \n",
    "print(arr_r)"
   ]
  },
  {
   "cell_type": "code",
   "execution_count": 19,
   "id": "6912f58e",
   "metadata": {},
   "outputs": [
    {
     "name": "stdout",
     "output_type": "stream",
     "text": [
      "[78 76 41 36 72 47 16]\n"
     ]
    }
   ],
   "source": [
    "# Crear un array con randoms Integers\n",
    "arr_1= np.random.randint(10,100,7)  \n",
    "print(arr_1)"
   ]
  },
  {
   "cell_type": "code",
   "execution_count": 21,
   "id": "b37e5f2a",
   "metadata": {},
   "outputs": [
    {
     "name": "stdout",
     "output_type": "stream",
     "text": [
      "[-0.15332446  0.62496537  0.5560539  -0.21106097 -0.27093875 -0.15923631\n",
      "  0.09486187  0.26744963  0.72327935  1.39330944]\n"
     ]
    }
   ],
   "source": [
    "# Una matriz llena de valores aleatorios (que sigue la distribución normal)\n",
    "arr_n= np.random.randn(10)  \n",
    "print(arr_n) "
   ]
  },
  {
   "cell_type": "code",
   "execution_count": 23,
   "id": "80b20dfd",
   "metadata": {},
   "outputs": [
    {
     "name": "stdout",
     "output_type": "stream",
     "text": [
      "[[1. 0.]\n",
      " [0. 1.]]\n"
     ]
    }
   ],
   "source": [
    "arr_I = np.eye(2)         \n",
    "print(arr_I)"
   ]
  },
  {
   "cell_type": "code",
   "execution_count": 28,
   "id": "1b412f25",
   "metadata": {},
   "outputs": [
    {
     "name": "stdout",
     "output_type": "stream",
     "text": [
      "6\n"
     ]
    }
   ],
   "source": [
    "# EL size para ver la longitud del array\n",
    "x = np.array([[3,2,1],[4,6,1]]) \n",
    "print(x.size)"
   ]
  },
  {
   "cell_type": "code",
   "execution_count": 29,
   "id": "8c9ac269",
   "metadata": {},
   "outputs": [
    {
     "data": {
      "text/plain": [
       "8"
      ]
     },
     "execution_count": 29,
     "metadata": {},
     "output_type": "execute_result"
    }
   ],
   "source": [
    "# El itemsize para ver el número de bytes\n",
    "a = np.array([[1,2,3],[4,5,6]]) \n",
    "a.itemsize"
   ]
  },
  {
   "cell_type": "code",
   "execution_count": 30,
   "id": "500dde16",
   "metadata": {},
   "outputs": [
    {
     "data": {
      "text/plain": [
       "2"
      ]
     },
     "execution_count": 30,
     "metadata": {},
     "output_type": "execute_result"
    }
   ],
   "source": [
    "# El ndim para ver las dimenciones\n",
    "a = np.array([[1,2,3],[4,5,6]]) \n",
    "a.ndim"
   ]
  },
  {
   "cell_type": "code",
   "execution_count": 35,
   "id": "b372a517",
   "metadata": {},
   "outputs": [
    {
     "name": "stdout",
     "output_type": "stream",
     "text": [
      "[[1 2 3]\n",
      " [4 5 6]]\n"
     ]
    },
    {
     "data": {
      "text/plain": [
       "numpy.ndarray"
      ]
     },
     "execution_count": 35,
     "metadata": {},
     "output_type": "execute_result"
    }
   ],
   "source": [
    "# EL type para ver que tipo es\n",
    "import numpy as np \n",
    "arr = np.array([[1,2,3],[4,5,6]]) \n",
    "print (arr)\n",
    "type(arr)\n"
   ]
  },
  {
   "cell_type": "code",
   "execution_count": 43,
   "id": "c5f3a4d8",
   "metadata": {},
   "outputs": [
    {
     "name": "stdout",
     "output_type": "stream",
     "text": [
      "2\n"
     ]
    }
   ],
   "source": [
    "# Revanar un array\n",
    "arr = np.arange(10)#Slicing single element\n",
    "slice_arr = arr[2] \n",
    "print (slice_arr)\n"
   ]
  },
  {
   "cell_type": "code",
   "execution_count": 44,
   "id": "c789d759",
   "metadata": {},
   "outputs": [
    {
     "name": "stdout",
     "output_type": "stream",
     "text": [
      "[2 4 6]\n"
     ]
    }
   ],
   "source": [
    "s = slice(2,7,2) \n",
    "print (arr[s])\n",
    "\n"
   ]
  },
  {
   "cell_type": "code",
   "execution_count": 45,
   "id": "fcd1a6a6",
   "metadata": {},
   "outputs": [
    {
     "name": "stdout",
     "output_type": "stream",
     "text": [
      "[2 4 6]\n"
     ]
    }
   ],
   "source": [
    "s = slice(2,7,2) \n",
    "print (arr[s])"
   ]
  },
  {
   "cell_type": "code",
   "execution_count": 47,
   "id": "777e889e",
   "metadata": {},
   "outputs": [
    {
     "name": "stdout",
     "output_type": "stream",
     "text": [
      "[11 14 15]\n"
     ]
    }
   ],
   "source": [
    "# Cortar elementos especificos\n",
    "x= np.array([11,12,13,14,15])\n",
    "print(np.take(x, [0, 3,4]))"
   ]
  },
  {
   "cell_type": "markdown",
   "id": "c3420b8e",
   "metadata": {},
   "source": [
    "## Matemática básica con numpy\n"
   ]
  },
  {
   "cell_type": "code",
   "execution_count": 58,
   "id": "58197aad",
   "metadata": {},
   "outputs": [
    {
     "data": {
      "text/plain": [
       "array([ 3,  6,  9, 12])"
      ]
     },
     "execution_count": 58,
     "metadata": {},
     "output_type": "execute_result"
    }
   ],
   "source": [
    "# SUMA\n",
    "arr_3 = np.array([1, 2, 3, 4])\n",
    "arr_4 = np.array([2, 4, 6, 8])\n",
    "np.add(arr_3 ,arr_4)"
   ]
  },
  {
   "cell_type": "code",
   "execution_count": 59,
   "id": "0a8fcc23",
   "metadata": {},
   "outputs": [
    {
     "name": "stdout",
     "output_type": "stream",
     "text": [
      "[-1 -2 -3 -4]\n"
     ]
    },
    {
     "data": {
      "text/plain": [
       "array([-1, -2, -3, -4])"
      ]
     },
     "execution_count": 59,
     "metadata": {},
     "output_type": "execute_result"
    }
   ],
   "source": [
    "# RESTA\n",
    "print(arr_3 - arr_4)\n",
    "np.subtract(arr_3 ,arr_4)"
   ]
  },
  {
   "cell_type": "code",
   "execution_count": 61,
   "id": "33ccea5f",
   "metadata": {},
   "outputs": [
    {
     "data": {
      "text/plain": [
       "array([ 2,  8, 18, 32])"
      ]
     },
     "execution_count": 61,
     "metadata": {},
     "output_type": "execute_result"
    }
   ],
   "source": [
    "# Multiplicación\n",
    "np.multiply(arr_3 ,arr_4)"
   ]
  },
  {
   "cell_type": "code",
   "execution_count": 63,
   "id": "4efb1f7f",
   "metadata": {},
   "outputs": [
    {
     "data": {
      "text/plain": [
       "array([0.5, 0.5, 0.5, 0.5])"
      ]
     },
     "execution_count": 63,
     "metadata": {},
     "output_type": "execute_result"
    }
   ],
   "source": [
    " # División\n",
    "np.divide(arr_3,arr_4)"
   ]
  },
  {
   "cell_type": "code",
   "execution_count": 64,
   "id": "b0d1317c",
   "metadata": {},
   "outputs": [
    {
     "name": "stdout",
     "output_type": "stream",
     "text": [
      "[[16  2  7]\n",
      " [92 13 22]]\n"
     ]
    }
   ],
   "source": [
    "#Random 2 by 3 digit 2D array between 0 to 100\n",
    "arr_6 =np.random.randint(100, size=(2, 3))\n",
    "print(arr_6)"
   ]
  },
  {
   "cell_type": "code",
   "execution_count": 65,
   "id": "3731b472",
   "metadata": {},
   "outputs": [
    {
     "name": "stdout",
     "output_type": "stream",
     "text": [
      "10\n"
     ]
    }
   ],
   "source": [
    "# Sum of values in array\n",
    "a=arr_3.sum()\n",
    "print(a)"
   ]
  },
  {
   "cell_type": "code",
   "execution_count": 66,
   "id": "33ee795d",
   "metadata": {},
   "outputs": [
    {
     "name": "stdout",
     "output_type": "stream",
     "text": [
      "[108  15  29]\n"
     ]
    }
   ],
   "source": [
    "# Sum columns\n",
    "c=arr_6.sum(axis=0)\n",
    "print(c)"
   ]
  },
  {
   "cell_type": "code",
   "execution_count": 67,
   "id": "b7861eae",
   "metadata": {},
   "outputs": [
    {
     "name": "stdout",
     "output_type": "stream",
     "text": [
      "[[ 16  18  25]\n",
      " [ 92 105 127]]\n"
     ]
    }
   ],
   "source": [
    "# Cumulative sum of rows\n",
    "b=arr_6.cumsum(axis=1)\n",
    "print(b)"
   ]
  },
  {
   "cell_type": "code",
   "execution_count": 72,
   "id": "5f8779b0",
   "metadata": {},
   "outputs": [
    {
     "name": "stdout",
     "output_type": "stream",
     "text": [
      "minimo:  [50 26]\n",
      "máximo:  [87 96 50]\n"
     ]
    }
   ],
   "source": [
    "# Valor mínimo y máximo de una matriz\n",
    "arr=np.array([[62, 96, 50],\n",
    "       [87, 26, 42]])\n",
    "print(\"minimo: \",arr.min(axis=1))\n",
    "print(\"máximo: \",arr.max(axis=0))"
   ]
  },
  {
   "cell_type": "code",
   "execution_count": 73,
   "id": "99aafbc0",
   "metadata": {},
   "outputs": [
    {
     "name": "stdout",
     "output_type": "stream",
     "text": [
      "[1 2]\n"
     ]
    }
   ],
   "source": [
    "# Valor absoluto\n",
    "print(np.absolute([-1, -2]))"
   ]
  },
  {
   "cell_type": "code",
   "execution_count": 75,
   "id": "90a1d4bf",
   "metadata": {},
   "outputs": [
    {
     "name": "stdout",
     "output_type": "stream",
     "text": [
      "[[     1     16]\n",
      " [   729 262144]]\n"
     ]
    }
   ],
   "source": [
    "# Exponente\n",
    "arr_5 = np.array([[1, 2], [3, 4]])\n",
    "arr_6 = np.array([[2, 4], [6, 9]])\n",
    "print(np.power(arr_5, arr_6))"
   ]
  },
  {
   "cell_type": "code",
   "execution_count": 76,
   "id": "162865a7",
   "metadata": {},
   "outputs": [
    {
     "name": "stdout",
     "output_type": "stream",
     "text": [
      "[1.         1.41421356 1.73205081 2.        ]\n"
     ]
    }
   ],
   "source": [
    "# Raiz cuadrada\n",
    "arr_3 = np.array([1, 2, 3, 4])\n",
    "print(np.sqrt(arr_3))"
   ]
  },
  {
   "cell_type": "code",
   "execution_count": 77,
   "id": "42410fd3",
   "metadata": {},
   "outputs": [
    {
     "name": "stdout",
     "output_type": "stream",
     "text": [
      "[1.         1.25992105 1.44224957 1.58740105]\n"
     ]
    }
   ],
   "source": [
    "# Raiz cúbica\n",
    "print(np.cbrt(arr_3))"
   ]
  },
  {
   "cell_type": "code",
   "execution_count": 78,
   "id": "51d89265",
   "metadata": {},
   "outputs": [
    {
     "name": "stdout",
     "output_type": "stream",
     "text": [
      "[ 2.71828183  7.3890561  20.08553692 54.59815003]\n"
     ]
    }
   ],
   "source": [
    "# Exponencial de todos los elementos de la matriz\n",
    "arr_3 = np.array([1, 2, 3, 4])#Exponential of all elements in array\n",
    "print(np.exp(arr_3))"
   ]
  },
  {
   "cell_type": "code",
   "execution_count": 79,
   "id": "59fd6f9f",
   "metadata": {},
   "outputs": [
    {
     "name": "stdout",
     "output_type": "stream",
     "text": [
      "[0.         0.69314718 1.09861229 1.38629436]\n"
     ]
    }
   ],
   "source": [
    "# Funciones logarítmicas\n",
    "print(np.log(arr_3))"
   ]
  },
  {
   "cell_type": "code",
   "execution_count": 80,
   "id": "ac5c1ec5",
   "metadata": {},
   "outputs": [
    {
     "name": "stdout",
     "output_type": "stream",
     "text": [
      "[0.        1.        1.5849625 2.       ]\n"
     ]
    }
   ],
   "source": [
    "print(np.log2(arr_3))"
   ]
  },
  {
   "cell_type": "code",
   "execution_count": 81,
   "id": "e9540129",
   "metadata": {},
   "outputs": [
    {
     "name": "stdout",
     "output_type": "stream",
     "text": [
      "[0.         0.30103    0.47712125 0.60205999]\n"
     ]
    }
   ],
   "source": [
    "print(np.log10(arr_3))"
   ]
  },
  {
   "cell_type": "code",
   "execution_count": 82,
   "id": "b20be032",
   "metadata": {},
   "outputs": [
    {
     "name": "stdout",
     "output_type": "stream",
     "text": [
      "3\n"
     ]
    }
   ],
   "source": [
    "# Máximo común divisor\n",
    "print(np.gcd.reduce([9, 12, 15]))"
   ]
  },
  {
   "cell_type": "code",
   "execution_count": 83,
   "id": "003868aa",
   "metadata": {},
   "outputs": [
    {
     "name": "stdout",
     "output_type": "stream",
     "text": [
      "180\n"
     ]
    }
   ],
   "source": [
    "# Mínimo común divisor\n",
    "print(np.lcm.reduce([9, 12, 15]))"
   ]
  },
  {
   "cell_type": "code",
   "execution_count": 90,
   "id": "8a967ac3",
   "metadata": {},
   "outputs": [
    {
     "name": "stdout",
     "output_type": "stream",
     "text": [
      "redondeo hacia abajo:  [1. 2.]\n",
      "redondeo hacia arriba:  [2. 3.]\n"
     ]
    }
   ],
   "source": [
    "# Redondeo hacia abajo y hacia arriba de elementos de una matriz\n",
    "# Round abajo\n",
    "print(\"redondeo hacia abajo: \",np.floor([1.2, 2.5]))\n",
    "# Round arriba\n",
    "print(\"redondeo hacia arriba: \",np.ceil([1.2, 2.5]))"
   ]
  },
  {
   "cell_type": "markdown",
   "id": "e3993e27",
   "metadata": {},
   "source": [
    "### Funciones trigonometricas en NumPy\n",
    "\n",
    "- numpy.sin() :Sine (x) Function\n",
    "\n",
    "- numpy.cos() :Cosine(x) Function\n",
    "\n",
    "- numpy.tan() :Tangent(x)Function\n",
    "\n",
    "- numpy.sinh() :Hyperbolic Sine (x) Function\n",
    "\n",
    "- numpy.cosh() :Hyperbolic Cosine(x) Functionv\n",
    "\n",
    "- numpy.tanh() :Hyperbolic Tangent(x)Function\n",
    "\n",
    "- numpy.arcsin() :Inverse Sine Function\n",
    "\n",
    "- numpy.arccos() :Inverse Cosine Function\n",
    "\n",
    "- numpy.arctan() : Inverse Tangent Function\n",
    "\n",
    "- numpy.pi : pi value\n",
    "\n",
    "- numpy.hypot(w,h) :For calculating Hypotenuse c = √w² + h²\n",
    "\n",
    "- numpy.rad2deg() : Radians to degrees\n",
    "\n",
    "- numpy.deg2rad() : Degrees to radians"
   ]
  },
  {
   "cell_type": "code",
   "execution_count": 91,
   "id": "f426d9b5",
   "metadata": {},
   "outputs": [],
   "source": [
    "# Realizar graficas con numpy y matplotlib\n",
    "import numpy as np\n",
    "import matplotlib.pyplot as plt"
   ]
  },
  {
   "cell_type": "code",
   "execution_count": 98,
   "id": "f20f68d6",
   "metadata": {},
   "outputs": [],
   "source": [
    "x = np.array([1, 2, 3, 4, 5])\n",
    "y = np.array([2, 4, 6, 8, 10])\n"
   ]
  },
  {
   "cell_type": "code",
   "execution_count": 100,
   "id": "a7d76582",
   "metadata": {},
   "outputs": [
    {
     "data": {
      "image/png": "[encoded data removed]",
      "text/plain": [
       "<Figure size 432x288 with 1 Axes>"
      ]
     },
     "metadata": {
      "needs_background": "light"
     },
     "output_type": "display_data"
    }
   ],
   "source": [
    "plt.plot(x, y)\n",
    "plt.show()\n",
    "\n"
   ]
  },
  {
   "cell_type": "code",
   "execution_count": 101,
   "id": "0e7c9882",
   "metadata": {},
   "outputs": [
    {
     "data": {
      "image/png": "[encoded data removed]",
      "text/plain": [
       "<Figure size 432x288 with 1 Axes>"
      ]
     },
     "metadata": {
      "needs_background": "light"
     },
     "output_type": "display_data"
    }
   ],
   "source": [
    "\n",
    "x = np.arange(0,10,0.1)\n",
    "y = x*np.cos(x)\n",
    "\n",
    "plt.plot(x,y)\n",
    "plt.xlabel('x')\n",
    "plt.ylabel('y')\n",
    "plt.title('Lab DLS')\n",
    "plt.show()"
   ]
  },
  {
   "cell_type": "code",
   "execution_count": 103,
   "id": "80ec5113",
   "metadata": {},
   "outputs": [
    {
     "data": {
      "image/png": "[encoded data removed]",
      "text/plain": [
       "<Figure size 432x288 with 1 Axes>"
      ]
     },
     "metadata": {
      "needs_background": "light"
     },
     "output_type": "display_data"
    }
   ],
   "source": [
    "x = np.arange(0,10,0.2)\n",
    "y1 = np.cos(x)\n",
    "y2 = np.sin(x)\n",
    "\n",
    "plt.plot(x,y1,'o',linewidth=3,color=(0.2,0.1,0.4))\n",
    "plt.plot(x,y2,'-',linewidth=2,color='g')\n",
    "plt.grid()\n",
    "plt.axis('equal')\n",
    "plt.xlabel('x')\n",
    "plt.ylabel('y')\n",
    "plt.title('Lab DLS')\n",
    "plt.show()"
   ]
  },
  {
   "cell_type": "markdown",
   "id": "41bcf120",
   "metadata": {},
   "source": [
    "# Funciones estadísticas importantes en NumPy\n",
    "\n",
    "- numpy.mean() : This function is used to calculate the mean of data.\n",
    "\n",
    "- numpy.average() : To calculate the average of any data.\n",
    "\n",
    "- numpy.median() : To calculate the median.\n",
    "\n",
    "- numpy.mode() : To calculate the mode of any data.\n",
    "\n",
    "- numpy.var() : To calculate the variance of any data.\n",
    "\n",
    "- numpy.std() : To calculate the standard deviation.\n",
    "\n",
    "- numpy.percentile() : To calculate percentile values.\n",
    "\n",
    "- numpy.corrcoef() : To calculate the correlation coefficient."
   ]
  },
  {
   "cell_type": "code",
   "execution_count": 104,
   "id": "896a1c05",
   "metadata": {},
   "outputs": [
    {
     "name": "stdout",
     "output_type": "stream",
     "text": [
      "[1 2 3 4 5]\n"
     ]
    }
   ],
   "source": [
    "arr_1 = np.arange(1, 6)\n",
    "print(arr_1)"
   ]
  },
  {
   "cell_type": "code",
   "execution_count": 107,
   "id": "600f997e",
   "metadata": {},
   "outputs": [
    {
     "name": "stdout",
     "output_type": "stream",
     "text": [
      "3.0\n"
     ]
    }
   ],
   "source": [
    "#mean\n",
    "print(np.mean(arr_1))"
   ]
  },
  {
   "cell_type": "code",
   "execution_count": 108,
   "id": "d1cea082",
   "metadata": {},
   "outputs": [
    {
     "name": "stdout",
     "output_type": "stream",
     "text": [
      "3.0\n"
     ]
    }
   ],
   "source": [
    "#median\n",
    "print(np.median(arr_1))"
   ]
  },
  {
   "cell_type": "code",
   "execution_count": 109,
   "id": "1cc60afd",
   "metadata": {},
   "outputs": [
    {
     "name": "stdout",
     "output_type": "stream",
     "text": [
      "3.0\n"
     ]
    }
   ],
   "source": [
    "#average\n",
    "print(np.average(arr_1))"
   ]
  },
  {
   "cell_type": "code",
   "execution_count": 110,
   "id": "6816e26e",
   "metadata": {},
   "outputs": [
    {
     "name": "stdout",
     "output_type": "stream",
     "text": [
      "1.4142135623730951\n"
     ]
    }
   ],
   "source": [
    "# Standard Deviation\n",
    "print(np.std([4, 6, 3, 5, 2])) "
   ]
  },
  {
   "cell_type": "code",
   "execution_count": 112,
   "id": "d7d314de",
   "metadata": {},
   "outputs": [
    {
     "name": "stdout",
     "output_type": "stream",
     "text": [
      "2.0\n"
     ]
    }
   ],
   "source": [
    "#variance\n",
    "print(np.var([4, 6, 3, 5, 2]))"
   ]
  },
  {
   "cell_type": "markdown",
   "id": "a3ea2eca",
   "metadata": {},
   "source": [
    "## Álgebra lineal con NumPy"
   ]
  },
  {
   "cell_type": "code",
   "execution_count": 117,
   "id": "c4ba556f",
   "metadata": {},
   "outputs": [
    {
     "name": "stdout",
     "output_type": "stream",
     "text": [
      "[4 6 7]\n"
     ]
    }
   ],
   "source": [
    "# Transposición vectorial\n",
    "import numpy as np\n",
    "import matplotlib.pyplot as plt\n",
    "from mpl_toolkits.mplot3d import Axes3D\n",
    "v3=[ 4, 6 , 7 ]\n",
    "v2= [ 4 ,7 ,9 ]\n",
    "v3t = np.transpose(v3)\n",
    "print(v3t)"
   ]
  },
  {
   "cell_type": "code",
   "execution_count": 119,
   "id": "a8e4c31e",
   "metadata": {},
   "outputs": [
    {
     "name": "stdout",
     "output_type": "stream",
     "text": [
      "[ 7 13]\n"
     ]
    }
   ],
   "source": [
    "# Suma y resta de vectores\n",
    "v1 = np.array([ 2 ,6 ])\n",
    "v2 = np.array([ 5 ,7 ])\n",
    "v3 = v1+v2 #Addition\n",
    "print(v3)\n"
   ]
  },
  {
   "cell_type": "code",
   "execution_count": 120,
   "id": "3e872914",
   "metadata": {},
   "outputs": [
    {
     "name": "stdout",
     "output_type": "stream",
     "text": [
      "[3 1]\n"
     ]
    }
   ],
   "source": [
    "v4 = v2-v1 #Subtraction\n",
    "print(v4)"
   ]
  },
  {
   "cell_type": "code",
   "execution_count": 121,
   "id": "acad43e8",
   "metadata": {},
   "outputs": [
    {
     "name": "stdout",
     "output_type": "stream",
     "text": [
      "[6.3 1.4]\n"
     ]
    }
   ],
   "source": [
    "# Multiplicación de vectores\n",
    "v1 = np.array([ 9 ,2 ]) \n",
    "c= 0.7\n",
    "v2= c*v1\n",
    "print(v2)"
   ]
  },
  {
   "cell_type": "code",
   "execution_count": 122,
   "id": "708df936",
   "metadata": {},
   "outputs": [
    {
     "name": "stdout",
     "output_type": "stream",
     "text": [
      "37\n"
     ]
    }
   ],
   "source": [
    "v1 = np.array([ 4 ,3 ,9 ])\n",
    "v2 = np.array([ 1 ,2 ,3 ])\n",
    "D_P1 = sum( np.multiply(v1,v2)  )\n",
    "print(D_P1)"
   ]
  },
  {
   "cell_type": "code",
   "execution_count": 123,
   "id": "3eae0b7a",
   "metadata": {},
   "outputs": [
    {
     "name": "stdout",
     "output_type": "stream",
     "text": [
      "37\n"
     ]
    }
   ],
   "source": [
    "#method 2\n",
    "D_P2 = np.dot( v1,v2 )\n",
    "print(D_P2)"
   ]
  },
  {
   "cell_type": "code",
   "execution_count": 125,
   "id": "e0e05bd0",
   "metadata": {},
   "outputs": [
    {
     "name": "stdout",
     "output_type": "stream",
     "text": [
      "37\n"
     ]
    }
   ],
   "source": [
    "#method 3\n",
    "D_P3= np.matmul( v1,v2 )\n",
    "print(D_P3)"
   ]
  },
  {
   "cell_type": "code",
   "execution_count": 128,
   "id": "27f4d4de",
   "metadata": {},
   "outputs": [
    {
     "name": "stdout",
     "output_type": "stream",
     "text": [
      "[ 3 12 10]\n"
     ]
    }
   ],
   "source": [
    "# Multiplicación de Hadamard\n",
    "w1 = [ 1, 3, 5 ]\n",
    "w2 = [ 3, 4, 2 ]\n",
    "w3 = np.multiply(w1,w2)\n",
    "print(w3)"
   ]
  },
  {
   "cell_type": "code",
   "execution_count": 129,
   "id": "a4a52bde",
   "metadata": {},
   "outputs": [
    {
     "name": "stdout",
     "output_type": "stream",
     "text": [
      "[ 9  6 -9]\n"
     ]
    }
   ],
   "source": [
    "# Producto cruzado vectorial\n",
    "v1 = np.array([3,9,9])\n",
    "v2 = np.array([2,3,4])\n",
    "v3 = np.cross (v1,v2)\n",
    "print (v3)"
   ]
  },
  {
   "cell_type": "code",
   "execution_count": 133,
   "id": "dd836b7b",
   "metadata": {},
   "outputs": [
    {
     "name": "stdout",
     "output_type": "stream",
     "text": [
      "7.810249675906654\n"
     ]
    }
   ],
   "source": [
    "# Longitud vectorial\n",
    "#  vector \n",
    "v1 = np.array([ 3,4,6 ])# example method 1\n",
    "vl = np.sqrt( sum( np.multiply(v1,v1)) )\n",
    "print(vl)"
   ]
  },
  {
   "cell_type": "code",
   "execution_count": 132,
   "id": "0820d190",
   "metadata": {},
   "outputs": [
    {
     "name": "stdout",
     "output_type": "stream",
     "text": [
      "7.810249675906654\n"
     ]
    }
   ],
   "source": [
    "# method 2: take the norm\n",
    "vl = np.linalg.norm(v1)\n",
    "print(vl)"
   ]
  }
 ],
 "metadata": {
  "kernelspec": {
   "display_name": "Python 3 (ipykernel)",
   "language": "python",
   "name": "python3"
  },
  "language_info": {
   "codemirror_mode": {
    "name": "ipython",
    "version": 3
   },
   "file_extension": ".py",
   "mimetype": "text/x-python",
   "name": "python",
   "nbconvert_exporter": "python",
   "pygments_lexer": "ipython3",
   "version": "3.10.6"
  }
 },
 "nbformat": 4,
 "nbformat_minor": 5
}
